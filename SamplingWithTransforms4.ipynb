{
 "cells": [
  {
   "cell_type": "markdown",
   "id": "67611e55",
   "metadata": {},
   "source": [
    "#### Part 4: Textures\n",
    "\n",
    "**Previously**\n",
    "\n",
    "We explored sampling n-dimensional data one-point at a time to render it into a view. Along the way, we identified a few important sub-spaces that can be used to give the ability to control the view or manipulate data.\n",
    "\n",
    "GPUs don't exactly render things this way though. \n",
    "\n",
    "**In this part**\n",
    "\n",
    "What role does the GPU play in the rendering process? They are particularly good at resampling data, particularly from textures. Textures have restrictions on their dimensionality (2D or 3D for the most part), and shouldn't be too big.\n",
    "\n",
    "Here we'll work textures into the rendering workflow. These will be:\n",
    "\n",
    "* restricted to 2d\n",
    "* restricted in size\n",
    "* positioned in the view space using corner vertices\n",
    "* sampled into screen space\n",
    "\n",
    "The main idea is that a texture will correspond to some axis-aligned sub-volume copied to the \"GPU\" from a data source. The \"GPU\" will then sample the texture at the appropriate location in the view space.  The \"GPU\" class, in this case, is just our `View` object.\n",
    " "
   ]
  },
  {
   "cell_type": "code",
   "execution_count": 169,
   "id": "889f2625",
   "metadata": {
    "tags": [
     "hide-cell"
    ]
   },
   "outputs": [],
   "source": [
    "# prelude\n",
    "from numpy import zeros,array,pi,cos,sin,eye,meshgrid,arange,cross\n",
    "from pylab import imshow,rand,figure,gca,axis,tight_layout,show\n",
    "from functools import reduce\n",
    "from typing import List\n",
    "from ipywidgets import interactive\n",
    "from matplotlib.patches import Rectangle, Polygon\n",
    "from matplotlib.collections import PatchCollection\n",
    "from matplotlib.colors import ListedColormap\n",
    "\n",
    "# Makes 2d vecs in to affine 3d\n",
    "lift=lambda vs: array(list(map(lambda v: array([v[0],v[1],1]),vs.T))).T \n",
    "\n",
    "def xor_image(shape):\n",
    "    dims = meshgrid(*tuple([arange(dim) for dim in shape]))\n",
    "    return reduce(lambda acc, coord: acc ^ coord, dims)\n",
    "\n",
    "class Data:\n",
    "    def __init__(self, sz, view_dims=2):\n",
    "        self._data=zeros(sz)\n",
    "        self._ndim=len(sz)+1 # add 1 for affine\n",
    "        self._view_dims=view_dims\n",
    "        \n",
    "        self._transform=eye(self._ndim,view_dims+1)\n",
    "        self._transform[:,-1]=[0,0,0,1]\n",
    "        \n",
    "        self._data=0.04*xor_image(sz) # scale intensities\n",
    "                    \n",
    "    def slice(self,starts,stops,steps)->\"Data\":\n",
    "        slices = [slice(a,b,c) for a,b,c in zip(starts,stops,steps)]\n",
    "        data = self._data[tuple(slices)]\n",
    "        xform = self._transform.copy()\n",
    "        xform[:-1,-1]=[-s for s in starts]\n",
    "        d=Data(data.shape,self._view_dims)\n",
    "        d._data=data\n",
    "        d._transform=xform\n",
    "        return d\n",
    "    \n",
    "    def translate(self,dr):\n",
    "        d=Data(self._data.shape,self._view_dims)\n",
    "        d._data=self._data;\n",
    "        xform=self._transform.copy()\n",
    "        xform[:-1,-1]=-dr;\n",
    "        d._transform=xform\n",
    "        return d\n",
    "    \n",
    "    def rotate_and_other_stuff(self,theta_deg):\n",
    "        theta_rad=theta_deg*pi/180.0\n",
    "        c,s = cos(-theta_rad),sin(-theta_rad)\n",
    "        S = eye(4)\n",
    "        S[:3,:3]=S[:3,:3]*0.3\n",
    "        R = array([[c,-s,0,0],[s,c,0,0],[0,0,1,0],[0,0,0,1]])\n",
    "        xform = R @ S @ self._transform        \n",
    "        d=Data(self._data.shape,self._view_dims)\n",
    "        d._data=self._data;\n",
    "        d._transform=xform\n",
    "        return d\n"
   ]
  },
  {
   "cell_type": "markdown",
   "id": "e374d356",
   "metadata": {},
   "source": [
    "Starting a bit from scratch here.  Lets try to define a more functional workflow.\n",
    "\n",
    "We'll need some information encapsulated in a View class."
   ]
  },
  {
   "cell_type": "code",
   "execution_count": 119,
   "id": "155990df",
   "metadata": {},
   "outputs": [],
   "source": [
    "class View:\n",
    "    def __init__(self, w, h):\n",
    "        self._size=[h,w]\n",
    "        self._bg=rand(self.h,self.w)"
   ]
  },
  {
   "cell_type": "markdown",
   "id": "582a513c",
   "metadata": {},
   "source": [
    "We also need some notion of a \"texture\".  In OpenGl, displaying an image involves some geometry and a texture. Barycentric coordinates are used to map texture coordinates that determine where the texture is sampled.\n",
    "\n",
    "Here I'll combine the geometry and the texture together into one thing. Instead of using barycentric coordinates, I'll use a linear transform to position the texture in the view space.\n",
    "\n",
    "You might notice that the `Tex2d` object here looks _very_ similar to the `Data` object from before. One conceptual difference is that `Tex2d` should be thought to \"own\" it's data."
   ]
  },
  {
   "cell_type": "markdown",
   "id": "923a8b33",
   "metadata": {},
   "source": []
  },
  {
   "cell_type": "code",
   "execution_count": 120,
   "id": "e5e93744",
   "metadata": {},
   "outputs": [],
   "source": [
    "class Tex2d:\n",
    "    def __init__(self, w, h):\n",
    "        self._transform=eye(3)\n",
    "        self._data=zeros((h,w))"
   ]
  },
  {
   "cell_type": "markdown",
   "id": "f2e57dd1",
   "metadata": {},
   "source": [
    "We need a way to sample the texture.  This involves some boundary handling. It accepts coordinates in \"texture space\".  In this case these are indices into the 2d array backing the texture."
   ]
  },
  {
   "cell_type": "code",
   "execution_count": 121,
   "id": "9bb316f3",
   "metadata": {},
   "outputs": [],
   "source": [
    "def sample2d(tex:Tex2d,r_tex):\n",
    "    def inbounds(r,sh):\n",
    "        # determine if r is inside the box described by sh \n",
    "        # (which is the w,h,d.. of the box)\n",
    "        v = all([0<=x<hi for x,hi in zip(r,sh)])\n",
    "        return v\n",
    "\n",
    "    if inbounds(r_tex,tex._data.shape):\n",
    "        return tex._data[tuple(r_tex)]\n",
    "    else: \n",
    "        return None\n"
   ]
  },
  {
   "cell_type": "markdown",
   "id": "92604bc7",
   "metadata": {},
   "source": [
    "Now we have what we need to define the render:"
   ]
  },
  {
   "cell_type": "code",
   "execution_count": 122,
   "id": "b0b643a5",
   "metadata": {},
   "outputs": [],
   "source": [
    "def render(v:View, textures) -> array:\n",
    "    frame=v._bg.copy()\n",
    "\n",
    "    for y in range(0,frame.shape[0]):\n",
    "        for x in range(0,frame.shape[1]):\n",
    "            r_view=v._transform@[x,y,1] # screen space: 2d+1 to view\n",
    "            for tex in textures:\n",
    "                r_tex=tex._transform@r_view\n",
    "                v = sample2d(tex,r_tex)\n",
    "                if v is not None:\n",
    "                    frame[y,x]=v\n",
    "    return frame"
   ]
  },
  {
   "cell_type": "markdown",
   "id": "c8cd7df3",
   "metadata": {},
   "source": [
    "Very roughly, you can think of the projection to `r_view` as corresponding to what happens in the vertex shader stage. The projection to `r_tex` happens just before the fragment shader as part of the barycentric interpolation."
   ]
  },
  {
   "cell_type": "markdown",
   "id": "b923417f",
   "metadata": {},
   "source": [
    "Ok, but where do we get these textures?\n",
    "\n",
    "They come from the data. We want to restrict things so resampling only happens during rendering - the texture needs to be an axis-aligned sub-volume of the data.\n",
    "\n",
    "There are all sorts of other interesting things we can dive into at this point, but lets just focus on querying the data set and loading the \"textures\".\n",
    "\n",
    "The textures we need to return should somehow be limited to the field of view. This will allow us to view data sets of unbounded size. So first we need to project the view area back to the data.  We can do this by projecting the vertices for the corners of the view. Using the transforms between the _screen_, _view_, and _data_ spaces defined before:\n",
    "\n",
    "$$\n",
    "r_{data}=T_{dv}T_{vs}r_{screen}\n",
    "$$"
   ]
  },
  {
   "cell_type": "code",
   "execution_count": 181,
   "id": "31e5cb52",
   "metadata": {},
   "outputs": [
    {
     "name": "stdout",
     "output_type": "stream",
     "text": [
      "box_data shape: (4, 2)\n"
     ]
    }
   ],
   "source": [
    "# Example\n",
    "\n",
    "def corners_to_box(cs):\n",
    "    return array([[cs[0,((i+1)&2)>>1],cs[1,(i&2)>>1]] for i in range(4)])\n",
    "\n",
    "# Prepare some data\n",
    "d=Data((64,48,33),view_dims=2)\n",
    "data=d.slice([10,10,0],[42,34,33],[1,1,1])\n",
    "data1=data.translate(array([0,0,0])).rotate_and_other_stuff(45)\n",
    "\n",
    "bbox_screen=array([[0,240],[0,320]])\n",
    "\n",
    "Tvs=eye(3) \n",
    "Tvs[:2,-1]=[50,0] # view space is translated relative to screen space for this example\n",
    "Tdv=data1._transform\n",
    "box_data=Tdv@Tvs@lift(corners_to_box(bbox_screen).T) # lift - makes 2xN into affine 3xN\n",
    "box_data=box_data[:2,:].T \n",
    "print('box_data shape:',box_data.shape)"
   ]
  },
  {
   "cell_type": "code",
   "execution_count": 182,
   "metadata": {},
   "outputs": [
    {
     "data": {
      "image/png": "[encoded data removed]",
      "text/plain": [
       "<Figure size 432x288 with 1 Axes>"
      ]
     },
     "metadata": {
      "needs_background": "light"
     },
     "output_type": "display_data"
    }
   ],
   "source": [
    "# Draw the view box (green) \n",
    "# relative to the full data (gray) \n",
    "# and sliced subset (dark gray)\n",
    "\n",
    "figure()\n",
    "gca().add_collection(PatchCollection([\n",
    "    Rectangle((0,0),64,48),\n",
    "    Rectangle((10,10),42,24),\n",
    "    Polygon(box_data)\n",
    "],alpha=0.3,facecolors=['k','k','g']))\n",
    "axis('equal')\n",
    "tight_layout()\n"
   ]
  },
  {
   "cell_type": "markdown",
   "id": "b63745e7",
   "metadata": {},
   "source": [
    "You can see that the green box intersects the grey ones non-orthogonally.\n",
    "\n",
    "However, the textures returned from the data sources (grey boxes) should be axis aligned.  They should also cover the visible area (gray intersection with green). What regions should be copied to texture?\n",
    "\n",
    "There are lots of good choices here. One way to do it is to find the intersection between these simple, convex polygons and then determine the minimal axis-aligned bounding box around that.\n",
    "\n",
    "Lets do something sillier, and pretend our data is chunked. This corresponds to picking a fixed texture size.  It's silly here because our chunk size is going to be very small. We'll only return the chunks that intersect the green area.\n",
    "\n",
    "We'll need an intersection test:"
   ]
  },
  {
   "cell_type": "code",
   "execution_count": 206,
   "id": "7d114e98",
   "metadata": {},
   "outputs": [
    {
     "name": "stdout",
     "output_type": "stream",
     "text": [
      "False\n",
      "True\n",
      "False\n",
      "False\n"
     ]
    }
   ],
   "source": [
    "def hit(P,r):\n",
    "    def left_of(p,q,r):\n",
    "        return cross(q-p,r-p)>0\n",
    "    return all(left_of(P[p],P[q],r) for (p,q) in zip([0,1,2,3],[1,2,3,0]))\n",
    "\n",
    "print(hit(box_data,array([10,10]))) # miss\n",
    "print(hit(box_data,array([52,10]))) # hit\n",
    "print(hit(box_data,array([52,34]))) # miss\n",
    "print(hit(box_data,array([10,34]))) # miss"
   ]
  },
  {
   "cell_type": "code",
   "execution_count": null,
   "id": "51c0c21c",
   "metadata": {},
   "outputs": [],
   "source": [
    "def chunks(data_source,cx,cy,query_polygon):\n",
    "    pass"
   ]
  }
 ],
 "metadata": {
  "celltoolbar": "Tags",
  "kernelspec": {
   "display_name": "Python 3 (ipykernel)",
   "language": "python",
   "name": "python3"
  },
  "language_info": {
   "codemirror_mode": {
    "name": "ipython",
    "version": 3
   },
   "file_extension": ".py",
   "mimetype": "text/x-python",
   "name": "python",
   "nbconvert_exporter": "python",
   "pygments_lexer": "ipython3",
   "version": "3.9.9"
  }
 },
 "nbformat": 4,
 "nbformat_minor": 5
}
